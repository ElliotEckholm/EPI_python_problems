{
 "cells": [
  {
   "cell_type": "markdown",
   "metadata": {},
   "source": [
    "# Strings Bootcamp"
   ]
  },
  {
   "cell_type": "markdown",
   "metadata": {},
   "source": [
    "## is_string_palindromic"
   ]
  },
  {
   "cell_type": "markdown",
   "metadata": {},
   "source": [
    "## Note\n",
    "`string[~index]` is `string[(len(string) - 1) - index]`\n",
    "\n",
    "^^ This is powerfule because we only need to loop over half the string "
   ]
  },
  {
   "cell_type": "code",
   "execution_count": 34,
   "metadata": {},
   "outputs": [],
   "source": [
    "def is_palindromic(string : str) -> bool:\n",
    "    \n",
    "    for index in range(len(string) // 2):\n",
    "        if string[~index] != string[index]:\n",
    "            return False\n",
    "    return True\n",
    "       \n",
    "        "
   ]
  },
  {
   "cell_type": "code",
   "execution_count": 35,
   "metadata": {},
   "outputs": [
    {
     "data": {
      "text/plain": [
       "False"
      ]
     },
     "execution_count": 35,
     "metadata": {},
     "output_type": "execute_result"
    }
   ],
   "source": [
    "is_palindromic(\"ellE\")"
   ]
  },
  {
   "cell_type": "code",
   "execution_count": 36,
   "metadata": {},
   "outputs": [
    {
     "name": "stdout",
     "output_type": "stream",
     "text": [
      "Name elliot\n"
     ]
    }
   ],
   "source": [
    "test = \"Name {name}\".format(name='elliot')\n",
    "\n",
    "print(test)"
   ]
  },
  {
   "cell_type": "markdown",
   "metadata": {},
   "source": [
    "# 6.1 Interconvert Strings and Integers"
   ]
  },
  {
   "cell_type": "markdown",
   "metadata": {},
   "source": [
    "### Elliot first Approach"
   ]
  },
  {
   "cell_type": "code",
   "execution_count": 217,
   "metadata": {},
   "outputs": [],
   "source": [
    "def interconvert(input_value):\n",
    "    \n",
    "    if type(input_value) == str:\n",
    "       \n",
    "        #figure out sign\n",
    "        sign = 1\n",
    "        \n",
    "        if '-' in input_value:\n",
    "            sign = -1\n",
    "            input_value = input_value[1:]\n",
    "        elif '+' in input_value:\n",
    "            sign = 1\n",
    "            input_value = input_value[1:]\n",
    "            \n",
    "        \n",
    "        int_output = 0\n",
    "        \n",
    "        #construct integer output\n",
    "        for index in range(len(input_value)):\n",
    "            #starting from the last digit in the string\n",
    "            int_output += to_int(input_value[~index]) * 10**index\n",
    "        \n",
    "        return int_output * sign\n",
    "            \n",
    "    \n",
    "    else:\n",
    "        \n",
    "        str_output = ''\n",
    "        #figure out sign\n",
    "        if input_value < 0:\n",
    "            str_output += '-'\n",
    "            input_value = input_value * -1\n",
    "        \n",
    "        string_array = []\n",
    "        index = 1\n",
    "        digit = 0\n",
    "        \n",
    "        while input_value-digit > 0:\n",
    "            input_value -= digit\n",
    "            digit = input_value % 10**index\n",
    "\n",
    "            str_digit = (input_value % 10**index) / (10**(index-1))\n",
    "            index += 1\n",
    "            string_array.append(to_string(str_digit))\n",
    "\n",
    "        \n",
    "        str_output += ''.join(reversed(string_array))\n",
    "            \n",
    "        return str_output\n",
    "        \n",
    "    \n",
    "\n",
    "def to_string(integer : int) -> str:\n",
    "    \n",
    "    digits = [\"0\",\"1\",\"2\",\"3\",\"4\",\"5\",\"6\",\"7\",\"8\",\"9\"]\n",
    "    \n",
    "    for index in range(len(digits)):\n",
    "        if integer == index:\n",
    "            return digits[index]\n",
    "    \n",
    "def to_int(string : str) -> int:\n",
    "    \n",
    "    digits = [\"0\",\"1\",\"2\",\"3\",\"4\",\"5\",\"6\",\"7\",\"8\",\"9\"]\n",
    "    \n",
    "    \n",
    "    for index in range(len(digits)):\n",
    "        if string == digits[index]:\n",
    "            return index\n"
   ]
  },
  {
   "cell_type": "code",
   "execution_count": 218,
   "metadata": {},
   "outputs": [
    {
     "name": "stdout",
     "output_type": "stream",
     "text": [
      "123 <class 'int'>\n",
      "123 <class 'int'>\n",
      "-123 <class 'int'>\n",
      "123 <class 'str'>\n",
      "-123 <class 'str'>\n"
     ]
    }
   ],
   "source": [
    "test_1 = \"123\"\n",
    "result = interconvert(test_1)\n",
    "print(result,type(result))\n",
    "test_2 = \"+123\"\n",
    "result = interconvert(test_2)\n",
    "print(result,type(result))\n",
    "test_3 = \"-123\"\n",
    "result = interconvert(test_3)\n",
    "print(result,type(result))\n",
    "\n",
    "test_4 = 123\n",
    "result = interconvert(test_4)\n",
    "print(result,type(result))\n",
    "test_5 = -123\n",
    "result = interconvert(test_5)\n",
    "print(result,type(result))"
   ]
  },
  {
   "cell_type": "markdown",
   "metadata": {},
   "source": [
    "### EPI Apporach"
   ]
  },
  {
   "cell_type": "code",
   "execution_count": 230,
   "metadata": {},
   "outputs": [],
   "source": [
    "import functools\n",
    "import string\n",
    "\n",
    "def int_to_string(x : int) -> str:\n",
    "    is_negative = False\n",
    "    \n",
    "    if x < 0:\n",
    "        x, is_negative = -x, True\n",
    "    \n",
    "    s = []\n",
    "    while True:\n",
    "        s.append(chr(ord('0') + x % 10))\n",
    "        x //= 10\n",
    "        if x == 0:\n",
    "            break\n",
    "            \n",
    "    #adds the negative sign back if is_negative\n",
    "    return ('-' if is_negative else '') + ''.join(reversed(s))\n",
    "\n",
    "\n",
    "def string_to_int(s : str) -> int:\n",
    "    return (-1 if s[0] == '-' else 1) * functools.reduce(\n",
    "        lambda running_sum, c: running_sum * 10 + string.digits.index(c),\n",
    "        s[s[0] in '-+':], 0)"
   ]
  },
  {
   "cell_type": "code",
   "execution_count": 231,
   "metadata": {},
   "outputs": [
    {
     "name": "stdout",
     "output_type": "stream",
     "text": [
      "123 <class 'str'>\n",
      "-123 <class 'int'>\n"
     ]
    }
   ],
   "source": [
    "test_1 = 123\n",
    "result = int_to_string(test_1)\n",
    "print(result,type(result))\n",
    "\n",
    "test_1 = '-123'\n",
    "result = string_to_int(test_1)\n",
    "print(result,type(result))"
   ]
  },
  {
   "cell_type": "code",
   "execution_count": 223,
   "metadata": {},
   "outputs": [
    {
     "data": {
      "text/plain": [
       "12"
      ]
     },
     "execution_count": 223,
     "metadata": {},
     "output_type": "execute_result"
    }
   ],
   "source": [
    "test = 123\n",
    "test //= 10\n",
    "test\n"
   ]
  },
  {
   "cell_type": "code",
   "execution_count": 233,
   "metadata": {},
   "outputs": [
    {
     "data": {
      "text/plain": [
       "int"
      ]
     },
     "execution_count": 233,
     "metadata": {},
     "output_type": "execute_result"
    }
   ],
   "source": [
    "type(string.digits.index('5'))"
   ]
  },
  {
   "cell_type": "code",
   "execution_count": null,
   "metadata": {},
   "outputs": [],
   "source": []
  }
 ],
 "metadata": {
  "kernelspec": {
   "display_name": "Python 3",
   "language": "python",
   "name": "python3"
  },
  "language_info": {
   "codemirror_mode": {
    "name": "ipython",
    "version": 3
   },
   "file_extension": ".py",
   "mimetype": "text/x-python",
   "name": "python",
   "nbconvert_exporter": "python",
   "pygments_lexer": "ipython3",
   "version": "3.7.4"
  }
 },
 "nbformat": 4,
 "nbformat_minor": 2
}
