{
 "cells": [
  {
   "cell_type": "markdown",
   "metadata": {},
   "source": [
    "# 14.1 Validate BST Property"
   ]
  },
  {
   "cell_type": "markdown",
   "metadata": {},
   "source": [
    "## Elliots first approach T = O(n) S = O(h)"
   ]
  },
  {
   "cell_type": "code",
   "execution_count": 56,
   "metadata": {},
   "outputs": [],
   "source": [
    "class BSTNode:\n",
    "    def __init__(self,data=None,left=None,right=None):\n",
    "        self.data = data\n",
    "        self.left = left\n",
    "        self.right = right\n",
    "        "
   ]
  },
  {
   "cell_type": "code",
   "execution_count": 85,
   "metadata": {},
   "outputs": [],
   "source": [
    "def validate_bst(root):\n",
    "    \n",
    "    lower_bound = float('-inf')\n",
    "    upper_bound = float('inf')\n",
    "    \n",
    "    def check_bst_property(root,lower_bound,upper_bound):\n",
    "        \n",
    "        #base case\n",
    "        if root is None:\n",
    "            return True\n",
    "            \n",
    "        elif root.data >= lower_bound  and root.data <= upper_bound and \\\n",
    "                check_bst_property(root.left,lower_bound,root.data) and \\\n",
    "                check_bst_property(root.right,root.data,upper_bound):\n",
    "            return True\n",
    "        \n",
    "        return False\n",
    "                \n",
    "            \n",
    "    \n",
    "    \n",
    "    return check_bst_property(root,lower_bound,upper_bound)\n",
    "        \n",
    "    "
   ]
  },
  {
   "cell_type": "code",
   "execution_count": 86,
   "metadata": {},
   "outputs": [
    {
     "data": {
      "text/plain": [
       "True"
      ]
     },
     "execution_count": 86,
     "metadata": {},
     "output_type": "execute_result"
    }
   ],
   "source": [
    "root = BSTNode(7)\n",
    "#left\n",
    "root.left = BSTNode(5)\n",
    "root.left.left = BSTNode(3)\n",
    "root.left.right = BSTNode(6)\n",
    "#right\n",
    "root.right = BSTNode(9)\n",
    "root.right.left = BSTNode(7)\n",
    "root.right.right = BSTNode(11)\n",
    "\n",
    "validate_bst(root)"
   ]
  },
  {
   "cell_type": "markdown",
   "metadata": {},
   "source": [
    "## EPI range approach"
   ]
  },
  {
   "cell_type": "code",
   "execution_count": 104,
   "metadata": {},
   "outputs": [],
   "source": [
    "def is_binary_tree_bst(tree: BSTNode) -> bool:\n",
    "    \n",
    "    def are_keys_in_range(tree : BSTNode, low_range : int = float('-inf'), high_range : int = float('inf')):\n",
    "        \n",
    "        if not tree:\n",
    "            return True\n",
    "        \n",
    "        elif not low_range <= tree.data <= high_range:\n",
    "            return False\n",
    "        \n",
    "        return are_keys_in_range(tree.left, low_range, tree.data) \\\n",
    "                and are_keys_in_range(tree.right, tree.data, high_range)\n",
    "    \n",
    "    return are_keys_in_range(tree)\n",
    "        "
   ]
  },
  {
   "cell_type": "code",
   "execution_count": 105,
   "metadata": {},
   "outputs": [
    {
     "data": {
      "text/plain": [
       "True"
      ]
     },
     "execution_count": 105,
     "metadata": {},
     "output_type": "execute_result"
    }
   ],
   "source": [
    "root = BSTNode(7)\n",
    "#left\n",
    "root.left = BSTNode(5)\n",
    "root.left.left = BSTNode(3)\n",
    "root.left.right = BSTNode(6)\n",
    "#right\n",
    "root.right = BSTNode(9)\n",
    "root.right.left = BSTNode(7)\n",
    "root.right.right = BSTNode(11)\n",
    "\n",
    "is_binary_tree_bst(root)"
   ]
  },
  {
   "cell_type": "code",
   "execution_count": null,
   "metadata": {},
   "outputs": [],
   "source": [
    "## Note\n",
    "\n",
    "- you can use `low_range <= tree.data <= high_range`\n",
    "- can define and call functions inside other function"
   ]
  }
 ],
 "metadata": {
  "kernelspec": {
   "display_name": "Python 3",
   "language": "python",
   "name": "python3"
  },
  "language_info": {
   "codemirror_mode": {
    "name": "ipython",
    "version": 3
   },
   "file_extension": ".py",
   "mimetype": "text/x-python",
   "name": "python",
   "nbconvert_exporter": "python",
   "pygments_lexer": "ipython3",
   "version": "3.7.4"
  }
 },
 "nbformat": 4,
 "nbformat_minor": 2
}
