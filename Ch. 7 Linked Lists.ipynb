{
 "cells": [
  {
   "cell_type": "markdown",
   "metadata": {},
   "source": [
    "# 7.1 Merge Two Sorted Lists "
   ]
  },
  {
   "cell_type": "markdown",
   "metadata": {},
   "source": [
    "### Create Linked List Class"
   ]
  },
  {
   "cell_type": "code",
   "execution_count": 73,
   "metadata": {},
   "outputs": [],
   "source": [
    "class ListNode:\n",
    "    def __init__(self,value=None,next=None):\n",
    "        self.value = value\n",
    "        self.next = next\n",
    "        \n",
    "class LinkedList:\n",
    "    def __init__(self,value=None):\n",
    "        self.head = ListNode(value)\n",
    "    \n",
    "    def insert(self,new_value):\n",
    "        \n",
    "        new_node = ListNode(new_value)\n",
    "        if self.head is None:\n",
    "            self.head = new_node\n",
    "        else:\n",
    "            current_node = self.head\n",
    "            \n",
    "            while current_node.next:\n",
    "                current_node = current_node.next\n",
    "            current_node.next = new_node\n",
    "            \n",
    "        \n",
    "    \n",
    "\n",
    "        \n",
    "    def printList(self):\n",
    "        current_node = self.head\n",
    "       \n",
    "        while current_node:\n",
    "            print(current_node.value)\n",
    "            current_node = current_node.next\n",
    "            \n",
    "        "
   ]
  },
  {
   "cell_type": "markdown",
   "metadata": {},
   "source": [
    "### Elliot Brute Force T = O(n) and S = O(n)"
   ]
  },
  {
   "cell_type": "code",
   "execution_count": 67,
   "metadata": {},
   "outputs": [],
   "source": [
    "def merge_sorted_lists(list1, list2):\n",
    "    \n",
    "    \n",
    "    current_node_1 = list1.head\n",
    "    current_node_2 = list2.head\n",
    "    \n",
    "    \n",
    "    #create new ll with head as lowest node between the two\n",
    "    if current_node_1.value <= current_node_2.value:\n",
    "        merged_ll = LinkedList(current_node_1.value)\n",
    "        current_node_1 = current_node_1.next\n",
    "        \n",
    "    else:\n",
    "        merged_ll = LinkedList(current_node_2.value)\n",
    "        current_node_2 = current_node_2.next\n",
    "      \n",
    "    \n",
    "    while current_node_1 or current_node_2:\n",
    "        # check if both nodes in list are not none, if so compare\n",
    "        if current_node_1 and current_node_2:\n",
    "            \n",
    "            if current_node_1.value < current_node_2.value:\n",
    "                merged_ll.insert(current_node_1.value)\n",
    "                current_node_1 = current_node_1.next\n",
    "            else:\n",
    "                merged_ll.insert(current_node_2.value)\n",
    "                current_node_2 = current_node_2.next\n",
    "        \n",
    "        #if only node is left from ll 1 then just add it \n",
    "        elif current_node_1:\n",
    "            merged_ll.insert(current_node_1.value)\n",
    "            current_node_1 = current_node_1.next\n",
    "        \n",
    "        #if only node is left from ll 2 then just add it \n",
    "        elif current_node_2:\n",
    "            merged_ll.insert(current_node_2.value)\n",
    "            current_node_2 = current_node_2.next\n",
    "        else:\n",
    "            break\n",
    "    \n",
    "\n",
    "    \n",
    "    return merged_ll\n",
    "        "
   ]
  },
  {
   "cell_type": "code",
   "execution_count": 68,
   "metadata": {},
   "outputs": [
    {
     "name": "stdout",
     "output_type": "stream",
     "text": [
      "2\n",
      "5\n",
      "7\n",
      "\n",
      "3\n",
      "11\n",
      "\n",
      "2\n",
      "3\n",
      "5\n",
      "7\n",
      "11\n"
     ]
    }
   ],
   "source": [
    "ll_1 = LinkedList(2)\n",
    "ll_1.insert(5)\n",
    "ll_1.insert(7)\n",
    "ll_1.printList()\n",
    "print()\n",
    "\n",
    "ll_2 = LinkedList(3)\n",
    "ll_2.insert(11)\n",
    "ll_2.printList()\n",
    "print()\n",
    "\n",
    "\n",
    "result_list = merge_sorted_lists(ll_1,ll_2)\n",
    "\n",
    "result_list.printList()"
   ]
  },
  {
   "cell_type": "markdown",
   "metadata": {},
   "source": [
    "### Idea for space optimization: Use ll_1 and replace nodes with sorted ones as you check the nodes ahead of it"
   ]
  },
  {
   "cell_type": "markdown",
   "metadata": {},
   "source": [
    "### EPI Approach"
   ]
  },
  {
   "cell_type": "code",
   "execution_count": 87,
   "metadata": {},
   "outputs": [],
   "source": [
    "\n",
    "def merge_two_sorted_lists(L1, L2):\n",
    "    \n",
    "    # creates a placeholder for the result\n",
    "    dummy_head = tail = ListNode()\n",
    "    \n",
    "    while L1 and L2:\n",
    "        if L1.value <= L2.value:\n",
    "            tail.next = L1\n",
    "            L1 = L1.next\n",
    "            \n",
    "        else:\n",
    "            tail.next = L2\n",
    "            L2 = L2.next\n",
    "            \n",
    "        tail = tail.next\n",
    "        \n",
    "    # Appends the remaining nodes of L1 and L2\n",
    "    tail.next = L1 or L2\n",
    "    \n",
    "    return dummy_head.next\n",
    "    "
   ]
  },
  {
   "cell_type": "code",
   "execution_count": 88,
   "metadata": {},
   "outputs": [
    {
     "name": "stdout",
     "output_type": "stream",
     "text": [
      "2\n",
      "3\n",
      "7\n",
      "11\n"
     ]
    }
   ],
   "source": [
    "ll_1 = ListNode(2)\n",
    "ll_1.next =  ListNode(5)\n",
    "ll_1.next =  ListNode(7)\n",
    "\n",
    "\n",
    "ll_2 = ListNode(3)\n",
    "ll_2.next =  ListNode(11)\n",
    "\n",
    "\n",
    "\n",
    "result_list = merge_two_sorted_lists(ll_1,ll_2)\n",
    "\n",
    "result_list.value\n",
    "\n",
    "\n",
    "current_node = result_list\n",
    "       \n",
    "while current_node:\n",
    "    print(current_node.value)\n",
    "    current_node = current_node.next"
   ]
  },
  {
   "cell_type": "markdown",
   "metadata": {},
   "source": [
    "### Note \n",
    "#### It is better to re use nodes than insert a value into a list and create a brand new node\n",
    "\n",
    "## Create simpler Linked List class, just create a ListNode, and attached it with other nodes, less space is used and less complex algorithms required to accomplish the task"
   ]
  },
  {
   "cell_type": "code",
   "execution_count": null,
   "metadata": {},
   "outputs": [],
   "source": []
  }
 ],
 "metadata": {
  "kernelspec": {
   "display_name": "Python 3",
   "language": "python",
   "name": "python3"
  },
  "language_info": {
   "codemirror_mode": {
    "name": "ipython",
    "version": 3
   },
   "file_extension": ".py",
   "mimetype": "text/x-python",
   "name": "python",
   "nbconvert_exporter": "python",
   "pygments_lexer": "ipython3",
   "version": "3.7.4"
  }
 },
 "nbformat": 4,
 "nbformat_minor": 2
}
