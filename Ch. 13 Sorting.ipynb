{
 "cells": [
  {
   "cell_type": "markdown",
   "metadata": {},
   "source": [
    "# 13.1 Intersection of Two Sorted Arrays"
   ]
  },
  {
   "cell_type": "markdown",
   "metadata": {},
   "source": [
    "## Elliots First Approach: \n",
    "### Brute Force T = O(nm) S = O(k) where k = matching elements"
   ]
  },
  {
   "cell_type": "code",
   "execution_count": 11,
   "metadata": {},
   "outputs": [],
   "source": [
    "def intersection(list1: list, list2: list) -> list:\n",
    "    \n",
    "    intersection_list = []\n",
    "    \n",
    "    #find shorter list\n",
    "    if len(list1) < len(list2):\n",
    "        \n",
    "        for element in list1:\n",
    "            if element in list2 and element not in intersection_list:\n",
    "                intersection_list.append(element)\n",
    "    else:\n",
    "        for element in list2:\n",
    "            if element in list1 and element not in intersection_list:\n",
    "                intersection_list.append(element)\n",
    "                \n",
    "    return intersection_list"
   ]
  },
  {
   "cell_type": "code",
   "execution_count": 12,
   "metadata": {},
   "outputs": [
    {
     "data": {
      "text/plain": [
       "[5, 6, 8]"
      ]
     },
     "execution_count": 12,
     "metadata": {},
     "output_type": "execute_result"
    }
   ],
   "source": [
    "list1 = [2,3,3,5,5,6,7,7,8,12]\n",
    "list2 = [5,5,6,8,8,9,10,10]\n",
    "\n",
    "intersection(list1, list2)"
   ]
  },
  {
   "cell_type": "markdown",
   "metadata": {},
   "source": [
    "## Elliots Optimized Code"
   ]
  },
  {
   "cell_type": "code",
   "execution_count": 13,
   "metadata": {},
   "outputs": [],
   "source": []
  },
  {
   "cell_type": "code",
   "execution_count": null,
   "metadata": {},
   "outputs": [],
   "source": []
  }
 ],
 "metadata": {
  "kernelspec": {
   "display_name": "Python 3",
   "language": "python",
   "name": "python3"
  },
  "language_info": {
   "codemirror_mode": {
    "name": "ipython",
    "version": 3
   },
   "file_extension": ".py",
   "mimetype": "text/x-python",
   "name": "python",
   "nbconvert_exporter": "python",
   "pygments_lexer": "ipython3",
   "version": "3.7.4"
  }
 },
 "nbformat": 4,
 "nbformat_minor": 2
}
