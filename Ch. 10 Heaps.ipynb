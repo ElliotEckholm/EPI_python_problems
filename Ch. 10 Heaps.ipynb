{
 "cells": [
  {
   "cell_type": "markdown",
   "metadata": {},
   "source": [
    "# Heap Bootcamp"
   ]
  },
  {
   "cell_type": "markdown",
   "metadata": {},
   "source": [
    "Use python `heapq`\n",
    "\n",
    "- `heapq` only works with min-heap so you should use negetive numbers for max-heap"
   ]
  },
  {
   "cell_type": "markdown",
   "metadata": {},
   "source": [
    "# 10.1 Merge Sorted Files"
   ]
  },
  {
   "cell_type": "markdown",
   "metadata": {},
   "source": [
    "## Elliot's Brute Force T = O(n^2) and S = O(n)"
   ]
  },
  {
   "cell_type": "code",
   "execution_count": 115,
   "metadata": {},
   "outputs": [],
   "source": [
    "import heapq\n",
    "\n",
    "def merge_sorted_files(sortedLists) -> list:\n",
    "    merged_list = []\n",
    "    \n",
    "     \n",
    "    for single_list in sortedLists:\n",
    "        for element in single_list:\n",
    "            merged_list.append(element)\n",
    "        \n",
    "    \n",
    "    heapq.heapify(merged_list)\n",
    "    return merged_list"
   ]
  },
  {
   "cell_type": "markdown",
   "metadata": {},
   "source": [
    "## Pythonic easy solution"
   ]
  },
  {
   "cell_type": "code",
   "execution_count": 102,
   "metadata": {},
   "outputs": [],
   "source": [
    "def merge_pythonic(sortedLists):\n",
    "    return list(heapq.merge(*sortedLists))"
   ]
  },
  {
   "cell_type": "code",
   "execution_count": 113,
   "metadata": {},
   "outputs": [
    {
     "name": "stdout",
     "output_type": "stream",
     "text": [
      "[0, 0, 3, 5, 6, 7, 6, 28]\n"
     ]
    }
   ],
   "source": [
    "list1 = [3,5,7]\n",
    "list2 = [0,6]\n",
    "list3 = [0,6,28]\n",
    "\n",
    "sortedLists = [list1,list2,list3]\n",
    "print(merge_sorted_files(sortedLists))"
   ]
  },
  {
   "cell_type": "code",
   "execution_count": 120,
   "metadata": {},
   "outputs": [
    {
     "data": {
      "text/plain": [
       "2"
      ]
     },
     "execution_count": 120,
     "metadata": {},
     "output_type": "execute_result"
    }
   ],
   "source": [
    "len([[2],[5]])"
   ]
  },
  {
   "cell_type": "code",
   "execution_count": 118,
   "metadata": {},
   "outputs": [
    {
     "data": {
      "text/plain": [
       "[5, 7]"
      ]
     },
     "execution_count": 118,
     "metadata": {},
     "output_type": "execute_result"
    }
   ],
   "source": [
    "list1 = [3,5,7]\n",
    "list1.pop(0)\n",
    "list1"
   ]
  },
  {
   "cell_type": "code",
   "execution_count": 94,
   "metadata": {},
   "outputs": [
    {
     "name": "stdout",
     "output_type": "stream",
     "text": [
      "True\n"
     ]
    }
   ],
   "source": [
    "list1 = [3,5,7]\n",
    "list2 = [0,6]\n",
    "list3 = [0,6,28]\n",
    "\n",
    "sortedLists = [list1,list2,list3]\n",
    "test = [[],[],[]]\n",
    "\n",
    "if test:\n",
    "    print(True)\n",
    "else:\n",
    "    print(False)"
   ]
  },
  {
   "cell_type": "markdown",
   "metadata": {},
   "source": [
    "## Correct Approach"
   ]
  },
  {
   "cell_type": "code",
   "execution_count": 13,
   "metadata": {},
   "outputs": [],
   "source": [
    "import heapq\n",
    "\n",
    "def merge_sorted_arrays(sortedLists):\n",
    "    min_heap : list[tuple[int,int]] = []\n",
    "    \n",
    "    #builds a list of iterators for each array in sorted_arrays\n",
    "    sorted_arrays_iters = [iter(x) for x in sortedLists]\n",
    "    \n",
    "    #puts first element from each iterator in min_heap\n",
    "    for i, it in enumerate(sorted_arrays_iters):\n",
    "        first_element = next(it, None)\n",
    "        if first_element is not None:\n",
    "            heapq.heappush(min_heap, (first_element, i))\n",
    "            \n",
    "    print(min_heap)\n",
    "    \n",
    "    result = []\n",
    "    while min_heap:\n",
    "        smallest_entry, smallest_array_i = heapq.heappop(min_heap)\n",
    "        \n",
    "        smallest_array_iter = sorted_arrays_iters[smallest_array_i]\n",
    "        result.append(smallest_entry)\n",
    "        next_element = next(smallest_array_iter, None)\n",
    "        \n",
    "        if next_element is not None:\n",
    "            heapq.heappush(min_heap, (next_element, smallest_array_i))\n",
    "    \n",
    "    return result\n",
    "    "
   ]
  },
  {
   "cell_type": "code",
   "execution_count": 14,
   "metadata": {},
   "outputs": [
    {
     "name": "stdout",
     "output_type": "stream",
     "text": [
      "[(0, 1), (3, 0), (0, 2)]\n",
      "[0, 0, 3, 5, 6, 6, 7, 28]\n"
     ]
    }
   ],
   "source": [
    "list1 = [3,5,7]\n",
    "list2 = [0,6]\n",
    "list3 = [0,6,28]\n",
    "\n",
    "sortedLists = [list1,list2,list3]\n",
    "print(merge_sorted_arrays(sortedLists))"
   ]
  },
  {
   "cell_type": "code",
   "execution_count": null,
   "metadata": {},
   "outputs": [],
   "source": []
  }
 ],
 "metadata": {
  "kernelspec": {
   "display_name": "Python 3",
   "language": "python",
   "name": "python3"
  },
  "language_info": {
   "codemirror_mode": {
    "name": "ipython",
    "version": 3
   },
   "file_extension": ".py",
   "mimetype": "text/x-python",
   "name": "python",
   "nbconvert_exporter": "python",
   "pygments_lexer": "ipython3",
   "version": "3.7.4"
  }
 },
 "nbformat": 4,
 "nbformat_minor": 2
}
