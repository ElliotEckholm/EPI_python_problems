{
 "cells": [
  {
   "cell_type": "markdown",
   "metadata": {},
   "source": [
    "# 5.1 Dutch Flag Problem"
   ]
  },
  {
   "cell_type": "markdown",
   "metadata": {},
   "source": [
    "### Brute force solution: T = O(n) and S = O(n)"
   ]
  },
  {
   "cell_type": "code",
   "execution_count": 88,
   "metadata": {},
   "outputs": [],
   "source": [
    "def dutch_sort_1(pivot_index : int, A : list) -> None:\n",
    "    sorted_A = []\n",
    "\n",
    "    pivot_value = A[pivot_index]\n",
    "\n",
    "    \n",
    "    for element in A:\n",
    "        if element < pivot_value:\n",
    "            sorted_A.append(element)\n",
    "\n",
    "    for element in A:\n",
    "        if element == pivot_value:\n",
    "            sorted_A.append(element)\n",
    "\n",
    "\n",
    "    for element in A:\n",
    "        if element > pivot_value:\n",
    "            sorted_A.append(element)\n",
    "\n",
    "    \n",
    "    for index in range(len(A)):\n",
    "        A[index] = sorted_A[index]\n",
    "    \n",
    "    return A\n"
   ]
  },
  {
   "cell_type": "code",
   "execution_count": 89,
   "metadata": {},
   "outputs": [
    {
     "name": "stdout",
     "output_type": "stream",
     "text": [
      "[1, 1, 0, 2]\n",
      "[0, 1, 1, 2]\n"
     ]
    }
   ],
   "source": [
    "A = [1,1,0,2]\n",
    "pivot_index = 1\n",
    "print(A)\n",
    "dutch_sort_1(pivot_index,A)\n",
    "print(A)"
   ]
  },
  {
   "cell_type": "markdown",
   "metadata": {},
   "source": [
    "### More space optimized Approach: T = O(n^2) and S = O(1)\n",
    "\n",
    "#### swap smaller elements with bigger elements as you pass through"
   ]
  },
  {
   "cell_type": "code",
   "execution_count": 102,
   "metadata": {},
   "outputs": [],
   "source": [
    "def dutch_sort_2(pivot_index : int, A : list) -> None:\n",
    "    \n",
    "    pivot_value = A[pivot_index]\n",
    "    \n",
    "    for i in range(len(A)):\n",
    "        for j in range(i + 1, len(A)):\n",
    "            if A[j] < pivot_value:\n",
    "                A[i], A[j] = A[j], A[i]\n",
    "                break\n",
    "    \n",
    "    for i in reversed(range(len(A))):\n",
    "        for j in reversed(range(i)):\n",
    "            if A[j] > pivot_value:\n",
    "                A[i], A[j] = A[j], A[i]\n",
    "                break\n",
    "            \n",
    "\n",
    "            \n",
    "    print(A)"
   ]
  },
  {
   "cell_type": "code",
   "execution_count": 103,
   "metadata": {},
   "outputs": [
    {
     "name": "stdout",
     "output_type": "stream",
     "text": [
      "[1, 1, 0, 2]\n",
      "[0, 1, 1, 2]\n",
      "[0, 1, 1, 2]\n"
     ]
    }
   ],
   "source": [
    "A = [1,1,0,2]\n",
    "pivot_index = 1\n",
    "print(A)\n",
    "dutch_sort_2(pivot_index,A)\n",
    "print(A)"
   ]
  },
  {
   "cell_type": "markdown",
   "metadata": {},
   "source": [
    "### More time and space optimized Approach: T = O(n) and S = O(1)"
   ]
  },
  {
   "cell_type": "code",
   "execution_count": 110,
   "metadata": {},
   "outputs": [],
   "source": [
    "def dutch_sort_3(pivot_index : int, A : list) -> None:\n",
    "    \n",
    "    pivot_value = A[pivot_index]\n",
    "    smaller = 0\n",
    "    larger = len(A) - 1\n",
    "    \n",
    "  \n",
    "    for i in range(len(A)):\n",
    "        if A[i] < pivot_value:\n",
    "            A[i], A[smaller] = A[smaller], A[i]\n",
    "            smaller += 1\n",
    "                \n",
    "   \n",
    "    for i in reversed(range(len(A))):\n",
    "        if A[i] > pivot_value:\n",
    "            A[i], A[larger] = A[larger], A[i]\n",
    "            larger -= 1\n",
    "            \n",
    "\n",
    "            \n",
    "    print(A)"
   ]
  },
  {
   "cell_type": "code",
   "execution_count": 111,
   "metadata": {},
   "outputs": [
    {
     "name": "stdout",
     "output_type": "stream",
     "text": [
      "[1, 1, 0, 2]\n",
      "[0, 1, 1, 2]\n",
      "[0, 1, 1, 2]\n"
     ]
    }
   ],
   "source": [
    "A = [1,1,0,2]\n",
    "pivot_index = 1\n",
    "print(A)\n",
    "dutch_sort_3(pivot_index,A)\n",
    "print(A)"
   ]
  },
  {
   "cell_type": "markdown",
   "metadata": {},
   "source": [
    "# 5.6 Buy and Sell a Stock Once"
   ]
  },
  {
   "cell_type": "markdown",
   "metadata": {},
   "source": [
    "### Elliot Brute Force: T = O(n^2) and S = O(1)"
   ]
  },
  {
   "cell_type": "code",
   "execution_count": 127,
   "metadata": {},
   "outputs": [],
   "source": [
    "def backtest_max_profit(stocks : list) -> int:\n",
    "    \n",
    "    max_profit = 0\n",
    "    \n",
    "    for i in range(0,len(stocks)):\n",
    "        for j in range(i+1,len(stocks)):\n",
    "            \n",
    "            #check if price is even greater than first price\n",
    "            if  stocks[j] >  stocks[i]:\n",
    "                price_diff = abs(stocks[i] - stocks[j])\n",
    "                max_profit = max(price_diff,max_profit)\n",
    "            \n",
    "    \n",
    "    return max_profit"
   ]
  },
  {
   "cell_type": "code",
   "execution_count": 128,
   "metadata": {},
   "outputs": [
    {
     "data": {
      "text/plain": [
       "30"
      ]
     },
     "execution_count": 128,
     "metadata": {},
     "output_type": "execute_result"
    }
   ],
   "source": [
    "stocks = [310,315,275,295,260,270,290,230,255,250]\n",
    "\n",
    "backtest_max_profit(stocks)"
   ]
  },
  {
   "cell_type": "markdown",
   "metadata": {},
   "source": [
    "### Elliot Optimized Approach: T = O(n) and S = O(1)"
   ]
  },
  {
   "cell_type": "code",
   "execution_count": 145,
   "metadata": {},
   "outputs": [],
   "source": [
    "def backtest_max_profit_2(stocks : list) -> int:\n",
    "    \n",
    "    max_profit = 0\n",
    "    min_price = float('inf')\n",
    "    for i in range(0,len(stocks)):\n",
    "        \n",
    "        min_price = min(min_price,stocks[i])\n",
    "        \n",
    "        #check if price is even greater than first price\n",
    "        if  stocks[i] >  min_price:\n",
    "            price_diff = abs(stocks[i] - min_price)\n",
    "            max_profit = max(price_diff,max_profit)\n",
    "       \n",
    "            \n",
    "           \n",
    "            \n",
    "    \n",
    "    return max_profit"
   ]
  },
  {
   "cell_type": "code",
   "execution_count": 144,
   "metadata": {},
   "outputs": [
    {
     "data": {
      "text/plain": [
       "30"
      ]
     },
     "execution_count": 144,
     "metadata": {},
     "output_type": "execute_result"
    }
   ],
   "source": [
    "stocks = [310,315,275,295,260,270,290,230,255,250]\n",
    "backtest_max_profit_2(stocks)"
   ]
  },
  {
   "cell_type": "code",
   "execution_count": null,
   "metadata": {},
   "outputs": [],
   "source": []
  }
 ],
 "metadata": {
  "kernelspec": {
   "display_name": "Python 3",
   "language": "python",
   "name": "python3"
  },
  "language_info": {
   "codemirror_mode": {
    "name": "ipython",
    "version": 3
   },
   "file_extension": ".py",
   "mimetype": "text/x-python",
   "name": "python",
   "nbconvert_exporter": "python",
   "pygments_lexer": "ipython3",
   "version": "3.7.4"
  }
 },
 "nbformat": 4,
 "nbformat_minor": 2
}
