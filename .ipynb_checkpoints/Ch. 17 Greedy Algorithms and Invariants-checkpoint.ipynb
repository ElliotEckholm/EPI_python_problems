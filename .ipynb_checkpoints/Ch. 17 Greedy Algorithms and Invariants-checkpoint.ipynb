{
 "cells": [
  {
   "cell_type": "markdown",
   "metadata": {},
   "source": [
    "# Greedy Algorithms Bootcamp"
   ]
  },
  {
   "cell_type": "markdown",
   "metadata": {},
   "source": [
    "### Calculate smallest num of coins to produce change"
   ]
  },
  {
   "cell_type": "code",
   "execution_count": 19,
   "metadata": {},
   "outputs": [],
   "source": [
    "def change_making(cents: int) -> int:\n",
    "    coins = [100,50,25,10,5,1]\n",
    "    num_coins = 0\n",
    "    \n",
    "    for coin in coins:\n",
    "        prev_cent = cents\n",
    "        num_coins += cents // coin\n",
    "        cents %= coin\n",
    "        print(prev_cent-cents)\n",
    "\n",
    "    return num_coins"
   ]
  },
  {
   "cell_type": "code",
   "execution_count": 21,
   "metadata": {},
   "outputs": [
    {
     "name": "stdout",
     "output_type": "stream",
     "text": [
      "0\n",
      "0\n",
      "0\n",
      "0\n",
      "5\n",
      "1\n"
     ]
    },
    {
     "data": {
      "text/plain": [
       "2"
      ]
     },
     "execution_count": 21,
     "metadata": {},
     "output_type": "execute_result"
    }
   ],
   "source": [
    "change_making(6)"
   ]
  },
  {
   "cell_type": "markdown",
   "metadata": {},
   "source": [
    "# Invariants Bootcamp"
   ]
  },
  {
   "cell_type": "markdown",
   "metadata": {},
   "source": [
    "### Invariants: \n",
    "- A condition that is true during the execution of a program\n",
    "- Can be used to rule out potential solutions taht are suboptimal "
   ]
  },
  {
   "cell_type": "markdown",
   "metadata": {},
   "source": [
    "### T = O(n) S = O(1)\n",
    "\n",
    "\n",
    "### Invariant here is: \n",
    "maintain a subarray that is guranteed to hold a solution, if it exists"
   ]
  },
  {
   "cell_type": "code",
   "execution_count": 25,
   "metadata": {},
   "outputs": [],
   "source": [
    "from typing import List\n",
    "\n",
    "def has_two_sums(A: List[int], t: int) -> bool:\n",
    "    i, j = 0, len(A) - 1\n",
    "    \n",
    "    while i <= j:\n",
    "        if A[i] + A[j] == t:\n",
    "            return True\n",
    "        elif A[i] + A[j] < t:\n",
    "            i += 1\n",
    "            \n",
    "        else: # A[i] + A[j] > t\n",
    "            j -= 1\n",
    "            \n",
    "    return False\n",
    "    \n",
    "    "
   ]
  },
  {
   "cell_type": "code",
   "execution_count": 28,
   "metadata": {},
   "outputs": [
    {
     "data": {
      "text/plain": [
       "False"
      ]
     },
     "execution_count": 28,
     "metadata": {},
     "output_type": "execute_result"
    }
   ],
   "source": [
    "A = [1,2,3,6,8,11,14]\n",
    "\n",
    "t = 70\n",
    "\n",
    "has_two_sums(A, t)"
   ]
  },
  {
   "cell_type": "markdown",
   "metadata": {},
   "source": [
    "# 17.4"
   ]
  },
  {
   "cell_type": "code",
   "execution_count": 32,
   "metadata": {},
   "outputs": [],
   "source": [
    "def has_three_sums(A: List[int], t: int) -> bool:\n",
    "    \n",
    "    A.sort()\n",
    "    \n",
    "    #finds if the sum of two number in A = t - a\n",
    "    return any(has_two_sums(A,t-a) for a in A)"
   ]
  },
  {
   "cell_type": "code",
   "execution_count": 33,
   "metadata": {},
   "outputs": [
    {
     "data": {
      "text/plain": [
       "True"
      ]
     },
     "execution_count": 33,
     "metadata": {},
     "output_type": "execute_result"
    }
   ],
   "source": [
    "A = [1,2,3,6,8,11,14]\n",
    "\n",
    "t = 7\n",
    "\n",
    "has_three_sums(A, t)"
   ]
  },
  {
   "cell_type": "code",
   "execution_count": null,
   "metadata": {},
   "outputs": [],
   "source": []
  }
 ],
 "metadata": {
  "kernelspec": {
   "display_name": "Python 3",
   "language": "python",
   "name": "python3"
  },
  "language_info": {
   "codemirror_mode": {
    "name": "ipython",
    "version": 3
   },
   "file_extension": ".py",
   "mimetype": "text/x-python",
   "name": "python",
   "nbconvert_exporter": "python",
   "pygments_lexer": "ipython3",
   "version": "3.7.4"
  }
 },
 "nbformat": 4,
 "nbformat_minor": 2
}
