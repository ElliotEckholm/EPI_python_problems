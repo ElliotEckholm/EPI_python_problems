{
 "cells": [
  {
   "cell_type": "markdown",
   "metadata": {},
   "source": [
    "# 8.1 Stack with Max Function"
   ]
  },
  {
   "cell_type": "markdown",
   "metadata": {},
   "source": [
    "## Elliot first Approach\n",
    "\n",
    "Keep track of max so far with attribute attached to each node in Stack"
   ]
  },
  {
   "cell_type": "code",
   "execution_count": 38,
   "metadata": {},
   "outputs": [],
   "source": [
    "class StackNode:\n",
    "    def __init__(self,data=None):\n",
    "        self.data = data\n",
    "        self.max_data = None\n",
    "\n",
    "class Stack:\n",
    "    def __init__(self):\n",
    "        self.stack = []\n",
    "        \n",
    "    def push(self,node):\n",
    "        # if stack is empty make first max = to node_data\n",
    "        if len(self.stack) == 0: \n",
    "            node.max_data = node.data\n",
    "            self.stack.append(node)\n",
    "        else:\n",
    "            #if newly pushed node is greater than max so far, make node's max = to node value\n",
    "            node.max_data = max(self.peek().max_data,node.data)\n",
    "            self.stack.append(node)\n",
    "        \n",
    "    def pop(self):\n",
    "        return self.stack.pop()\n",
    "        \n",
    "    def peek(self):\n",
    "        return self.stack[-1]\n",
    "    \n",
    "    def get_max(self):\n",
    "        return self.stack.pop().max_data\n",
    "    \n",
    "    def printStack(self):\n",
    "        for node in self.stack:\n",
    "            print(\"{data} with max: {max_data}\".format(data=node.data,max_data = node.max_data))"
   ]
  },
  {
   "cell_type": "code",
   "execution_count": 39,
   "metadata": {},
   "outputs": [
    {
     "name": "stdout",
     "output_type": "stream",
     "text": [
      "3 with max: 3\n",
      "1 with max: 3\n",
      "5 with max: 5\n",
      "3 with max: 3\n",
      "1 with max: 3\n",
      "\n"
     ]
    },
    {
     "data": {
      "text/plain": [
       "3"
      ]
     },
     "execution_count": 39,
     "metadata": {},
     "output_type": "execute_result"
    }
   ],
   "source": [
    "test_stack = Stack()\n",
    "\n",
    "test_stack.push(StackNode(3))\n",
    "test_stack.push(StackNode(1))\n",
    "test_stack.push(StackNode(5))\n",
    "test_stack.printStack()\n",
    "\n",
    "test_stack.pop()\n",
    "test_stack.printStack()\n",
    "\n",
    "print()\n",
    "test_stack.get_max()"
   ]
  },
  {
   "cell_type": "markdown",
   "metadata": {},
   "source": [
    "# Queues Bootcamp"
   ]
  },
  {
   "cell_type": "code",
   "execution_count": 73,
   "metadata": {},
   "outputs": [],
   "source": [
    "import collections\n",
    "\n",
    "class Queue:\n",
    "    def __init__(self) -> None:\n",
    "        #use composition\n",
    "        #create a private field to reference a libraries object\n",
    "        # we use the Dequeue[int] so that we can specify this a queue made of int's\n",
    "        self._queue: Dequeue[int] = collections.deque()\n",
    "            \n",
    "    def enqueue(self, x : int) -> None:\n",
    "        self._queue.append(x)\n",
    "        \n",
    "    def dequeue(self) -> int:\n",
    "        return self._queue.popLeft()\n",
    "    \n",
    "    def max(self) -> int:\n",
    "        return max(self._queue)"
   ]
  },
  {
   "cell_type": "code",
   "execution_count": 74,
   "metadata": {},
   "outputs": [
    {
     "data": {
      "text/plain": [
       "6"
      ]
     },
     "execution_count": 74,
     "metadata": {},
     "output_type": "execute_result"
    }
   ],
   "source": [
    "test_queue = Queue()\n",
    "\n",
    "test_queue.enqueue(4)\n",
    "test_queue.enqueue(6)\n",
    "test_queue.enqueue(1)\n",
    "\n",
    "test_queue.max()"
   ]
  },
  {
   "cell_type": "markdown",
   "metadata": {},
   "source": [
    "# 8.6 Compute Binary Tree Nodes in Order of Increasing Depth"
   ]
  },
  {
   "cell_type": "code",
   "execution_count": 78,
   "metadata": {},
   "outputs": [],
   "source": [
    "class TreeNode:\n",
    "    def __init__(self,data=None,left=None,right=None):\n",
    "        self.data = data\n",
    "        self.left = left\n",
    "        self.right = right\n",
    "    "
   ]
  },
  {
   "cell_type": "markdown",
   "metadata": {},
   "source": [
    "## Elliot first Approach using not queues"
   ]
  },
  {
   "cell_type": "code",
   "execution_count": 89,
   "metadata": {},
   "outputs": [],
   "source": [
    "def list_depths(root,depth,depth_table):\n",
    "    \n",
    "    if root:\n",
    "        \n",
    "        if depth not in depth_table:\n",
    "            depth_table[depth] = [root.data]\n",
    "        else:\n",
    "             depth_table[depth].append(root.data)\n",
    "        depth += 1\n",
    "        \n",
    "        list_depths(root.left,depth,depth_table)\n",
    "        list_depths(root.right,depth,depth_table)\n",
    "    \n",
    "    "
   ]
  },
  {
   "cell_type": "code",
   "execution_count": 87,
   "metadata": {},
   "outputs": [
    {
     "name": "stdout",
     "output_type": "stream",
     "text": [
      "{0: [314], 1: [6, 6], 2: [271, 561, 2, 271]}\n"
     ]
    }
   ],
   "source": [
    "root = TreeNode(314)\n",
    "root.left = TreeNode(6)\n",
    "root.right = TreeNode(6)\n",
    "root.left.left = TreeNode(271)\n",
    "root.left.right = TreeNode(561)\n",
    "root.right.left = TreeNode(2)\n",
    "root.right.right = TreeNode(271)\n",
    "\n",
    "depth = 0\n",
    "depth_table = {}\n",
    "list_depths(root,depth,depth_table)\n",
    "\n",
    "print(depth_table)"
   ]
  },
  {
   "cell_type": "markdown",
   "metadata": {},
   "source": [
    "## Correct Approach with Pair of Queues"
   ]
  },
  {
   "cell_type": "code",
   "execution_count": 181,
   "metadata": {},
   "outputs": [],
   "source": [
    "def list_depths_with_queues(tree):\n",
    "    \n",
    "    #way to create a varible and specify its type and structure\n",
    "    result: list[list[int]] = []\n",
    "    \n",
    "    if not tree:\n",
    "        return result\n",
    "    \n",
    "    #push first node to current_depth_nodes\n",
    "    current_depth_nodes = [tree]\n",
    "#     print(current_depth_nodes[0].data)\n",
    "    \n",
    "    while current_depth_nodes:\n",
    "        \n",
    "        #push all nodes in current depth array into results\n",
    "        result.append([current.data for current in current_depth_nodes])\n",
    "        \n",
    "        #create new depths nodes array at root and another if root has left and/or right nodes\n",
    "        current_depth_nodes = [\n",
    "           \n",
    "            child for current in current_depth_nodes\n",
    "            for child in (current.left,current.right) if child\n",
    "        ]\n",
    "\n",
    "        \n",
    "    return result\n",
    "        "
   ]
  },
  {
   "cell_type": "code",
   "execution_count": 182,
   "metadata": {},
   "outputs": [
    {
     "data": {
      "text/plain": [
       "[[314], [6, 6], [271, 561, 2, 271]]"
      ]
     },
     "execution_count": 182,
     "metadata": {},
     "output_type": "execute_result"
    }
   ],
   "source": [
    "root = TreeNode(314)\n",
    "root.left = TreeNode(6)\n",
    "root.right = TreeNode(6)\n",
    "root.left.left = TreeNode(271)\n",
    "root.left.right = TreeNode(561)\n",
    "root.right.left = TreeNode(2)\n",
    "root.right.right = TreeNode(271)\n",
    "\n",
    "\n",
    "list_depths_with_queues(root)\n",
    "\n"
   ]
  },
  {
   "cell_type": "code",
   "execution_count": null,
   "metadata": {},
   "outputs": [],
   "source": []
  },
  {
   "cell_type": "code",
   "execution_count": null,
   "metadata": {},
   "outputs": [],
   "source": []
  },
  {
   "cell_type": "code",
   "execution_count": null,
   "metadata": {},
   "outputs": [],
   "source": []
  }
 ],
 "metadata": {
  "kernelspec": {
   "display_name": "Python 3",
   "language": "python",
   "name": "python3"
  },
  "language_info": {
   "codemirror_mode": {
    "name": "ipython",
    "version": 3
   },
   "file_extension": ".py",
   "mimetype": "text/x-python",
   "name": "python",
   "nbconvert_exporter": "python",
   "pygments_lexer": "ipython3",
   "version": "3.7.4"
  }
 },
 "nbformat": 4,
 "nbformat_minor": 2
}
