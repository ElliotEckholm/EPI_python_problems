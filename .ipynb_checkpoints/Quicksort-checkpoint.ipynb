{
 "cells": [
  {
   "cell_type": "code",
   "execution_count": 37,
   "metadata": {},
   "outputs": [],
   "source": [
    "from typing import List\n",
    "\n",
    "def partition(arr: List[int], low: int, high: int):\n",
    "    '''\n",
    "    takes last element as pivot, places\n",
    "    the pivot element at its correct position in sorted\n",
    "    array, and places all smaller (smaller than pivot)\n",
    "    to left of pivot and all greater elements to right\n",
    "    of pivot\n",
    "    '''\n",
    "    \n",
    "    i = (low - 1)         # index of smaller element \n",
    "    pivot = arr[high]     # pivot \n",
    "  \n",
    "    for j in range(low , high): \n",
    "  \n",
    "        # If current element is smaller than the pivot \n",
    "        if  arr[j] < pivot: \n",
    "          \n",
    "            # increment index of smaller element \n",
    "            i = i+1 \n",
    "            arr[i],arr[j] = arr[j],arr[i] \n",
    "  \n",
    "    arr[i+1],arr[high] = arr[high],arr[i+1] \n",
    "    \n",
    "    return (i + 1) \n",
    "  \n",
    "\n",
    "def quickSort(arr: List[int], low: int, high: int) -> int:\n",
    "    '''\n",
    "    The main function that implements QuickSort\n",
    "    \n",
    "    input: \n",
    "    arr[] --> Array to be sorted, \n",
    "    low  --> Starting index, \n",
    "    high  --> Ending index \n",
    "    '''\n",
    "    if low < high: \n",
    "  \n",
    "        # pi is partitioning index, arr[p] is now \n",
    "        # at right place \n",
    "        pi = partition(arr,low,high) \n",
    "  \n",
    "        # Separately sort elements before \n",
    "        # partition and after partition \n",
    "        quickSort(arr, low, pi-1) \n",
    "        quickSort(arr, pi+1, high)\n",
    "        \n",
    "    return arr"
   ]
  },
  {
   "cell_type": "code",
   "execution_count": 38,
   "metadata": {},
   "outputs": [
    {
     "data": {
      "text/plain": [
       "[0, 1, 2, 3, 4, 5, 6, 7, 8, 9]"
      ]
     },
     "execution_count": 38,
     "metadata": {},
     "output_type": "execute_result"
    }
   ],
   "source": [
    "\n",
    "A : List[int] = [3,2,6,7,1,0,9,8,4,5]\n",
    "low = 0\n",
    "high = len(A) - 1 \n",
    "    \n",
    "quickSort(A,low,high)"
   ]
  },
  {
   "cell_type": "code",
   "execution_count": null,
   "metadata": {},
   "outputs": [],
   "source": []
  }
 ],
 "metadata": {
  "kernelspec": {
   "display_name": "Python 3",
   "language": "python",
   "name": "python3"
  },
  "language_info": {
   "codemirror_mode": {
    "name": "ipython",
    "version": 3
   },
   "file_extension": ".py",
   "mimetype": "text/x-python",
   "name": "python",
   "nbconvert_exporter": "python",
   "pygments_lexer": "ipython3",
   "version": "3.7.4"
  }
 },
 "nbformat": 4,
 "nbformat_minor": 2
}
