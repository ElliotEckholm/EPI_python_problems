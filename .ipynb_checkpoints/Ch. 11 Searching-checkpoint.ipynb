{
 "cells": [
  {
   "cell_type": "markdown",
   "metadata": {},
   "source": [
    "## Binary Search"
   ]
  },
  {
   "cell_type": "code",
   "execution_count": 5,
   "metadata": {},
   "outputs": [],
   "source": [
    "def binary_search(target : int, A : list) -> int:\n",
    "    \n",
    "    lower_bound, upper_bound = 0, len(A) - 1\n",
    "    \n",
    "    while lower_bound <= upper_bound:\n",
    "        \n",
    "        middle = lower_bound + (upper_bound - lower_bound) // 2\n",
    "        \n",
    "        if A[middle] < target:\n",
    "            lower_bound = middle + 1\n",
    "        elif A[middle] == target:\n",
    "            return middle\n",
    "        else:\n",
    "            upper_bound = middle - 1\n",
    "    \n",
    "    return -1"
   ]
  },
  {
   "cell_type": "code",
   "execution_count": 7,
   "metadata": {},
   "outputs": [
    {
     "data": {
      "text/plain": [
       "5"
      ]
     },
     "execution_count": 7,
     "metadata": {},
     "output_type": "execute_result"
    }
   ],
   "source": [
    "test = [1,2,3,4,5,8,9]\n",
    "t = 8\n",
    "\n",
    "\n",
    "binary_search(t, test)"
   ]
  },
  {
   "cell_type": "markdown",
   "metadata": {},
   "source": [
    "# 11.1 Search Sorted Array for First Occurance of K"
   ]
  },
  {
   "cell_type": "markdown",
   "metadata": {},
   "source": [
    "### Elliots First Approach T = O(log(n)) + O(n) for backtracking S = O(1)"
   ]
  },
  {
   "cell_type": "code",
   "execution_count": 48,
   "metadata": {},
   "outputs": [],
   "source": [
    "def search_array(k : int, A : list) -> int:\n",
    "    results = []\n",
    "    lower_bound, upper_bound = 0, len(A) - 1\n",
    "    \n",
    "    while lower_bound <= upper_bound:\n",
    "       \n",
    "        middle = lower_bound + (upper_bound - lower_bound) // 2\n",
    "        \n",
    "        if A[middle] < k:\n",
    "            lower_bound = middle + 1\n",
    "        #find occurance of k\n",
    "        elif A[middle] == k:\n",
    "            #start backtracking within the array until to you reach first occurance \n",
    "            first_occurance_index = middle\n",
    "            while A[first_occurance_index] == k:\n",
    "                first_occurance_index -= 1 \n",
    "            return (first_occurance_index + 1)\n",
    "        \n",
    "        else:\n",
    "            upper_bound = middle - 1\n",
    "        \n",
    "    \n",
    "    \n",
    "    return -1"
   ]
  },
  {
   "cell_type": "code",
   "execution_count": 49,
   "metadata": {},
   "outputs": [
    {
     "data": {
      "text/plain": [
       "6"
      ]
     },
     "execution_count": 49,
     "metadata": {},
     "output_type": "execute_result"
    }
   ],
   "source": [
    "A = [-14,-10,5,108,108,243,285,285,285,401]\n",
    "k = 285\n",
    "\n",
    "search_array(k,A)"
   ]
  },
  {
   "cell_type": "markdown",
   "metadata": {},
   "source": [
    "## EPI Approach T = O(log(n))"
   ]
  },
  {
   "cell_type": "code",
   "execution_count": 63,
   "metadata": {},
   "outputs": [],
   "source": [
    "def search_array_2(k : int, A : list) -> int:\n",
    "    results = -1\n",
    "    lower_bound, upper_bound = 0, len(A) - 1\n",
    "    \n",
    "    while lower_bound <= upper_bound:\n",
    "       \n",
    "        middle = lower_bound + (upper_bound - lower_bound) // 2\n",
    "        \n",
    "        if A[middle] < k:\n",
    "            lower_bound = middle + 1\n",
    "        #find occurance of k\n",
    "        elif A[middle] == k:\n",
    "            result = middle\n",
    "            upper_bound = middle - 1\n",
    "        \n",
    "        else:\n",
    "            upper_bound = middle - 1\n",
    "        \n",
    "    \n",
    "    \n",
    "    return result"
   ]
  },
  {
   "cell_type": "code",
   "execution_count": 64,
   "metadata": {},
   "outputs": [
    {
     "data": {
      "text/plain": [
       "3"
      ]
     },
     "execution_count": 64,
     "metadata": {},
     "output_type": "execute_result"
    }
   ],
   "source": [
    "A = [-14,-10,5,108,108,243,285,285,285,401]\n",
    "k = 108\n",
    "\n",
    "search_array_2(k,A)"
   ]
  },
  {
   "cell_type": "code",
   "execution_count": null,
   "metadata": {},
   "outputs": [],
   "source": []
  },
  {
   "cell_type": "code",
   "execution_count": null,
   "metadata": {},
   "outputs": [],
   "source": []
  }
 ],
 "metadata": {
  "kernelspec": {
   "display_name": "Python 3",
   "language": "python",
   "name": "python3"
  },
  "language_info": {
   "codemirror_mode": {
    "name": "ipython",
    "version": 3
   },
   "file_extension": ".py",
   "mimetype": "text/x-python",
   "name": "python",
   "nbconvert_exporter": "python",
   "pygments_lexer": "ipython3",
   "version": "3.7.4"
  }
 },
 "nbformat": 4,
 "nbformat_minor": 2
}
