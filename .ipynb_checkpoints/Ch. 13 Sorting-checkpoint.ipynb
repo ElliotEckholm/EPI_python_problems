{
 "cells": [
  {
   "cell_type": "markdown",
   "metadata": {},
   "source": [
    "# 13.1 Intersection of Two Sorted Arrays"
   ]
  },
  {
   "cell_type": "markdown",
   "metadata": {},
   "source": [
    "## Elliots First Approach: \n",
    "### Brute Force T = O(n^2) S = O(k) where k = matching elements"
   ]
  },
  {
   "cell_type": "code",
   "execution_count": 11,
   "metadata": {},
   "outputs": [],
   "source": [
    "def intersection(list1: list, list2: list) -> list:\n",
    "    \n",
    "    intersection_list = []\n",
    "    \n",
    "    #find shorter list\n",
    "    if len(list1) < len(list2):\n",
    "        \n",
    "        for element in list1:\n",
    "            if element in list2 and element not in intersection_list:\n",
    "                intersection_list.append(element)\n",
    "    else:\n",
    "        for element in list2:\n",
    "            if element in list1 and element not in intersection_list:\n",
    "                intersection_list.append(element)\n",
    "                \n",
    "    return intersection_list"
   ]
  },
  {
   "cell_type": "code",
   "execution_count": 12,
   "metadata": {},
   "outputs": [
    {
     "data": {
      "text/plain": [
       "[5, 6, 8]"
      ]
     },
     "execution_count": 12,
     "metadata": {},
     "output_type": "execute_result"
    }
   ],
   "source": [
    "list1 = [2,3,3,5,5,6,7,7,8,12]\n",
    "list2 = [5,5,6,8,8,9,10,10]\n",
    "\n",
    "intersection(list1, list2)"
   ]
  },
  {
   "cell_type": "markdown",
   "metadata": {},
   "source": [
    "## Approach after reading hint T = O(mlog(n)) use binary search instead of `in` command"
   ]
  },
  {
   "cell_type": "code",
   "execution_count": 13,
   "metadata": {},
   "outputs": [],
   "source": [
    "import bisect\n",
    "\n",
    "def binary_search_intersection(list1: list, list2: list) -> list:\n",
    "    \n",
    "    intersection_list = []\n",
    "    \n",
    "    \n",
    "        \n",
    "    for element in list1:\n",
    "        matching_index = bisect.bisect_left(list2,element)\n",
    "        \n",
    "        if matching_index < len(list2) and list2[matching_index] not in intersection_list:\n",
    "            intersection_list.append(list2[matching_index])\n",
    "           \n",
    "                \n",
    "    return intersection_list"
   ]
  },
  {
   "cell_type": "code",
   "execution_count": 14,
   "metadata": {},
   "outputs": [
    {
     "data": {
      "text/plain": [
       "[5, 6, 8]"
      ]
     },
     "execution_count": 14,
     "metadata": {},
     "output_type": "execute_result"
    }
   ],
   "source": [
    "list1 = [2,3,3,5,5,6,7,7,8,12]\n",
    "list2 = [5,5,6,8,8,9,10,10]\n",
    "\n",
    "binary_search_intersection(list1, list2)"
   ]
  },
  {
   "cell_type": "markdown",
   "metadata": {},
   "source": [
    "## EPI Binary Search Approach"
   ]
  },
  {
   "cell_type": "code",
   "execution_count": 19,
   "metadata": {},
   "outputs": [],
   "source": [
    "def epi_binary_search_intersection(A: list, B: list) -> list:\n",
    "    \n",
    "    def is_present (k):\n",
    "        i = bisect.bisect_left(B, k)\n",
    "        return i < len(B) and B[i] == k\n",
    "    \n",
    "    return [\n",
    "        a for i, a in enumerate(A)\n",
    "        if (i == 0 or a != A[i-1] and is_present(a))\n",
    "    ]"
   ]
  },
  {
   "cell_type": "code",
   "execution_count": 20,
   "metadata": {},
   "outputs": [
    {
     "data": {
      "text/plain": [
       "[2, 5, 6, 8]"
      ]
     },
     "execution_count": 20,
     "metadata": {},
     "output_type": "execute_result"
    }
   ],
   "source": [
    "list1 = [2,3,3,5,5,6,7,7,8,12]\n",
    "list2 = [5,5,6,8,8,9,10,10]\n",
    "\n",
    "epi_binary_search_intersection(list1, list2)"
   ]
  },
  {
   "cell_type": "markdown",
   "metadata": {},
   "source": [
    "## EPI Concurrent looping through both lists T = O(m+n)"
   ]
  },
  {
   "cell_type": "code",
   "execution_count": 34,
   "metadata": {},
   "outputs": [],
   "source": [
    "def epi_concurrent_search(A: list, B: list) -> list:\n",
    "    \n",
    "    result = []\n",
    "    current_A_i = 0\n",
    "    current_B_i = 0\n",
    "    \n",
    "    while current_A_i < len(A) and current_B_i < len(B):\n",
    "        \n",
    "        if A[current_A_i] ==  B[current_B_i]:\n",
    "            \n",
    "            if current_A_i == 0 or A[current_A_i] != A[current_A_i - 1]:\n",
    "                result.append(A[current_A_i])\n",
    "        \n",
    "            current_A_i += 1\n",
    "            current_B_i += 1\n",
    "        \n",
    "        elif A[current_A_i] < B[current_B_i]:\n",
    "            current_A_i += 1\n",
    "        \n",
    "        else:\n",
    "            current_B_i += 1\n",
    "    \n",
    "    return result\n",
    "        "
   ]
  },
  {
   "cell_type": "code",
   "execution_count": 35,
   "metadata": {},
   "outputs": [
    {
     "data": {
      "text/plain": [
       "[5, 6, 8]"
      ]
     },
     "execution_count": 35,
     "metadata": {},
     "output_type": "execute_result"
    }
   ],
   "source": [
    "list1 = [2,3,3,5,5,6,7,7,8,12]\n",
    "list2 = [5,5,6,8,8,9,10,10]\n",
    "\n",
    "epi_concurrent_search(list1, list2)"
   ]
  },
  {
   "cell_type": "code",
   "execution_count": null,
   "metadata": {},
   "outputs": [],
   "source": []
  }
 ],
 "metadata": {
  "kernelspec": {
   "display_name": "Python 3",
   "language": "python",
   "name": "python3"
  },
  "language_info": {
   "codemirror_mode": {
    "name": "ipython",
    "version": 3
   },
   "file_extension": ".py",
   "mimetype": "text/x-python",
   "name": "python",
   "nbconvert_exporter": "python",
   "pygments_lexer": "ipython3",
   "version": "3.7.4"
  }
 },
 "nbformat": 4,
 "nbformat_minor": 2
}
