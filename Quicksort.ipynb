{
 "cells": [
  {
   "cell_type": "code",
   "execution_count": 39,
   "metadata": {},
   "outputs": [],
   "source": [
    "from typing import List\n",
    "\n",
    "def partition(arr: List[int], low: int, high: int):\n",
    "    '''\n",
    "    takes last element as pivot, places\n",
    "    the pivot element at its correct position in sorted\n",
    "    array, and places all smaller (smaller than pivot)\n",
    "    to left of pivot and all greater elements to right\n",
    "    of pivot\n",
    "    '''\n",
    "    \n",
    "    i = (low - 1)         # index of smaller element \n",
    "    pivot = arr[high]     # pivot \n",
    "  \n",
    "    for j in range(low , high): \n",
    "  \n",
    "        # If current element is smaller than the pivot \n",
    "        if  arr[j] < pivot: \n",
    "          \n",
    "            # increment index of smaller element \n",
    "            i = i+1 \n",
    "            arr[i],arr[j] = arr[j],arr[i] \n",
    "  \n",
    "    arr[i+1],arr[high] = arr[high],arr[i+1] \n",
    "    \n",
    "    return (i + 1) \n",
    "  \n",
    "\n",
    "def quickSort(arr: List[int], low: int, high: int) -> int:\n",
    "    '''\n",
    "    The main function that implements QuickSort\n",
    "    \n",
    "    input: \n",
    "    arr[] --> Array to be sorted, \n",
    "    low  --> Starting index, \n",
    "    high  --> Ending index \n",
    "    '''\n",
    "    if low < high: \n",
    "  \n",
    "        # pi is partitioning index, arr[p] is now \n",
    "        # at right place \n",
    "        pi = partition(arr,low,high) \n",
    "        print(pi)\n",
    "        # Separately sort elements before \n",
    "        # partition and after partition \n",
    "        quickSort(arr, low, pi-1) \n",
    "        quickSort(arr, pi+1, high)\n",
    "        \n",
    "    return arr"
   ]
  },
  {
   "cell_type": "code",
   "execution_count": 40,
   "metadata": {},
   "outputs": [
    {
     "name": "stdout",
     "output_type": "stream",
     "text": [
      "5\n",
      "4\n",
      "0\n",
      "3\n",
      "1\n",
      "7\n",
      "8\n"
     ]
    },
    {
     "data": {
      "text/plain": [
       "[0, 1, 2, 3, 4, 5, 6, 7, 8, 9]"
      ]
     },
     "execution_count": 40,
     "metadata": {},
     "output_type": "execute_result"
    }
   ],
   "source": [
    "\n",
    "A : List[int] = [3,2,6,7,1,0,9,8,4,5]\n",
    "low = 0\n",
    "high = len(A) - 1 \n",
    "    \n",
    "quickSort(A,low,high)"
   ]
  },
  {
   "cell_type": "code",
   "execution_count": 41,
   "metadata": {},
   "outputs": [],
   "source": [
    "from typing import List\n",
    "\n",
    "def quicksort(A: List[int]) -> List[int]:\n",
    "    \n",
    "    low, high = 0, len(A) - 1\n",
    "    \n",
    "    #finds the partition index\n",
    "    def partition_helper(A: List[int],low: int,high: int) -> int:\n",
    "        \n",
    "        i = low - 1\n",
    "        pivot = A[high]\n",
    "        \n",
    "        for j in range(low,high):\n",
    "            \n",
    "            if A[j] < pivot:\n",
    "                i += 1\n",
    "                A[i], A[j] = A[j], A[i]\n",
    "            \n",
    "        A[i+1], A[high] = A[high],A[i+1]\n",
    "        \n",
    "        return i + 1\n",
    "                \n",
    "    \n",
    "    \n",
    "    #recursive function that sorts A and then returns sorted A  \n",
    "    def quicksort_helper(A: List[int],low: int,high: int) -> List[int]:\n",
    "        \n",
    "        if low < high:\n",
    "        \n",
    "            #find partition index\n",
    "            partition_index = partition_helper(A,low,high)\n",
    "            \n",
    "            #sort for all element less than pivot and all elements greater than pivot\n",
    "            quicksort_helper(A, low, partition_index-1)\n",
    "            quicksort_helper(A,  partition_index+1 , high)\n",
    "        \n",
    "        return A\n",
    "            \n",
    "            \n",
    "    \n",
    "    return quicksort_helper(A,low,high)\n",
    "    \n",
    "    \n",
    "    \n",
    "    \n",
    "        \n",
    "        \n",
    "        "
   ]
  },
  {
   "cell_type": "code",
   "execution_count": 42,
   "metadata": {},
   "outputs": [
    {
     "data": {
      "text/plain": [
       "[0, 1, 2, 3, 4, 5, 6, 7, 8, 9]"
      ]
     },
     "execution_count": 42,
     "metadata": {},
     "output_type": "execute_result"
    }
   ],
   "source": [
    "A : List[int] = [3,2,6,7,1,0,9,8,4,5]\n",
    "    \n",
    "quicksort(A) "
   ]
  },
  {
   "cell_type": "code",
   "execution_count": null,
   "metadata": {},
   "outputs": [],
   "source": []
  }
 ],
 "metadata": {
  "kernelspec": {
   "display_name": "Python 3",
   "language": "python",
   "name": "python3"
  },
  "language_info": {
   "codemirror_mode": {
    "name": "ipython",
    "version": 3
   },
   "file_extension": ".py",
   "mimetype": "text/x-python",
   "name": "python",
   "nbconvert_exporter": "python",
   "pygments_lexer": "ipython3",
   "version": "3.7.4"
  }
 },
 "nbformat": 4,
 "nbformat_minor": 2
}
