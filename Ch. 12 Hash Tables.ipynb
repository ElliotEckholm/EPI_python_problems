{
 "cells": [
  {
   "cell_type": "markdown",
   "metadata": {},
   "source": [
    "## String Hash Function"
   ]
  },
  {
   "cell_type": "code",
   "execution_count": 13,
   "metadata": {},
   "outputs": [],
   "source": [
    "import functools\n",
    "\n",
    "def string_hash(s: str, modulus: int) -> int:\n",
    "    mult = 997\n",
    "    return functools.reduce(lambda v, c: (v * mult + ord(c)) % modulus, s, 0)\n",
    "\n",
    "\n"
   ]
  },
  {
   "cell_type": "code",
   "execution_count": 32,
   "metadata": {},
   "outputs": [
    {
     "data": {
      "text/plain": [
       "0"
      ]
     },
     "execution_count": 32,
     "metadata": {},
     "output_type": "execute_result"
    }
   ],
   "source": [
    "string = \"\"\n",
    "mod = 2\n",
    "\n",
    "string_hash(string,mod)\n",
    "\n",
    "# elliot_hash(string)"
   ]
  },
  {
   "cell_type": "markdown",
   "metadata": {},
   "source": [
    "# 12.2 Magazine Letter Constructable"
   ]
  },
  {
   "cell_type": "markdown",
   "metadata": {},
   "source": [
    "## Elliots First Approach T = O(n + m) S = O(L + M)\n",
    "\n",
    "Use a counter hash tables and check that magazine array has >= letters from letter array"
   ]
  },
  {
   "cell_type": "code",
   "execution_count": 49,
   "metadata": {},
   "outputs": [],
   "source": [
    "import collections\n",
    "\n",
    "def magazine_constructable(letter : list, magazine : list) -> bool:\n",
    "    \n",
    "    #convert magazine array into counter table\n",
    "    magazine_counter = collections.Counter(magazine)\n",
    "    \n",
    "    #convert letter array into counter table\n",
    "    letter_counter = collections.Counter(letter)\n",
    "    \n",
    "    for char in letter:\n",
    "        if char in magazine_counter:\n",
    "            if magazine_counter[char] >= letter_counter[char]:\n",
    "                continue\n",
    "            else:\n",
    "                return False\n",
    "        else:\n",
    "            return False\n",
    "    \n",
    "    return True\n",
    "    "
   ]
  },
  {
   "cell_type": "code",
   "execution_count": 50,
   "metadata": {},
   "outputs": [
    {
     "data": {
      "text/plain": [
       "False"
      ]
     },
     "execution_count": 50,
     "metadata": {},
     "output_type": "execute_result"
    }
   ],
   "source": [
    "magazine = ['e','l','l','i','o','t']\n",
    "letter  = ['e','f','i','o','t']\n",
    "\n",
    "# counter = collections.Counter(letter)\n",
    "# print(counter['l'])\n",
    "\n",
    "magazine_constructable(letter,magazine)"
   ]
  },
  {
   "cell_type": "code",
   "execution_count": null,
   "metadata": {},
   "outputs": [],
   "source": []
  }
 ],
 "metadata": {
  "kernelspec": {
   "display_name": "Python 3",
   "language": "python",
   "name": "python3"
  },
  "language_info": {
   "codemirror_mode": {
    "name": "ipython",
    "version": 3
   },
   "file_extension": ".py",
   "mimetype": "text/x-python",
   "name": "python",
   "nbconvert_exporter": "python",
   "pygments_lexer": "ipython3",
   "version": "3.7.4"
  }
 },
 "nbformat": 4,
 "nbformat_minor": 2
}
