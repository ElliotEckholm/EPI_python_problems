{
 "cells": [
  {
   "cell_type": "markdown",
   "metadata": {},
   "source": [
    "# 21.1 Garbage Collection\n",
    "\n",
    "What is garbage collection? Explain it in the context of Python"
   ]
  },
  {
   "cell_type": "markdown",
   "metadata": {},
   "source": [
    "### Python uses two strategies for memory allocation:\n",
    "\n",
    "- #### Reference counting\n",
    "\n",
    "    -  Reference counting works by counting the number of times an object is referenced by other objects in the system. When references to an object are removed, the reference count for an object is decremented. When the reference count becomes zero, the object is deallocated.\n",
    "    \n",
    "    \n",
    "- #### Garbage collection\n",
    "\n",
    "    -  As objects are created. they are assigned to generations, and younger generatrions are examined first\n",
    "    - When the number of allocations vs. the number of deallocations is greater than a threshold the automatic garbage collector will run. \n"
   ]
  },
  {
   "cell_type": "markdown",
   "metadata": {},
   "source": [
    "### Manual Garbage Collection"
   ]
  },
  {
   "cell_type": "code",
   "execution_count": 4,
   "metadata": {},
   "outputs": [
    {
     "name": "stdout",
     "output_type": "stream",
     "text": [
      "Garbage collector: collected 34 objects.\n",
      "Creating cycles...\n",
      "{1: {...}}\n",
      "{2: {...}}\n",
      "{3: {...}}\n",
      "{4: {...}}\n",
      "{5: {...}}\n",
      "{6: {...}}\n",
      "{7: {...}}\n",
      "{8: {...}}\n",
      "{9: {...}}\n",
      "{10: {...}}\n",
      "Garbage collector: collected 10 objects.\n"
     ]
    }
   ],
   "source": [
    "import gc \n",
    "i = 0 \n",
    "  \n",
    "# create a cycle and on each iteration x as a dictionary \n",
    "# assigned to 1 \n",
    "def create_cycle(): \n",
    "    x = { } \n",
    "    x[i+1] = x \n",
    "    print(x) \n",
    "\n",
    "#lists are cleared whenever a full collection or  \n",
    "# collection of the highest generation (2) is run \n",
    "collected = gc.collect() # or gc.collect(2) \n",
    "print(\"Garbage collector: collected %d objects.\" % (collected) )\n",
    "  \n",
    "print(\"Creating cycles...\")\n",
    "for i in range(10): \n",
    "    create_cycle() \n",
    "\n",
    "collected = gc.collect() \n",
    "  \n",
    "print(\"Garbage collector: collected %d objects.\" % (collected) )"
   ]
  },
  {
   "cell_type": "markdown",
   "metadata": {},
   "source": [
    "# 21.2 Closure\n",
    "What does the following program print and why?"
   ]
  },
  {
   "cell_type": "code",
   "execution_count": 1,
   "metadata": {},
   "outputs": [
    {
     "name": "stdout",
     "output_type": "stream",
     "text": [
      "13\n"
     ]
    }
   ],
   "source": [
    "increment_by_i = [lambda x: x + i for i in range(10)]\n",
    "\n",
    "print(increment_by_i[3](4))\n",
    "\n",
    "#not 7 from (i = 3 => 3) + 4\n",
    "\n",
    "#correct 13 from (i = 10 => 9) + 4"
   ]
  },
  {
   "cell_type": "code",
   "execution_count": 6,
   "metadata": {},
   "outputs": [
    {
     "name": "stdout",
     "output_type": "stream",
     "text": [
      "7\n"
     ]
    }
   ],
   "source": [
    "## how to get 7\n",
    "\n",
    "def create_increment_function(x):\n",
    "    return lambda y: y + x\n",
    "\n",
    "increment_by_i = [create_increment_function(i) for i in range(10)]\n",
    "\n",
    "print(increment_by_i[3](4))"
   ]
  },
  {
   "cell_type": "markdown",
   "metadata": {},
   "source": [
    "# 21.3 Shallow and Deep Copy\n",
    "Describe the difference between a shallow copy and a deep copy. When is each appropiate, and when is neither appropiate? How is deep copy implemented?"
   ]
  },
  {
   "cell_type": "markdown",
   "metadata": {},
   "source": [
    "### Note\n",
    "Assigment in python does not copy, its simply a variable to a target\n",
    "\n",
    "- ### Shallow Copy\n",
    "\n",
    "    - Copies existing value with same reference to the origial object. So if you can the new copy, the original copy will also get changed\n",
    "    \n",
    "    \n",
    "- ### Deep Copy\n",
    "\n",
    "    - Copies values to a new object recursively with a new reference, so they are completetly separete objects in memory  "
   ]
  },
  {
   "cell_type": "markdown",
   "metadata": {},
   "source": [
    "# 21.4 Iterators and Generators\n",
    "What is the difference between an iterator and a generator?"
   ]
  },
  {
   "cell_type": "code",
   "execution_count": null,
   "metadata": {},
   "outputs": [],
   "source": []
  }
 ],
 "metadata": {
  "kernelspec": {
   "display_name": "Python 3",
   "language": "python",
   "name": "python3"
  },
  "language_info": {
   "codemirror_mode": {
    "name": "ipython",
    "version": 3
   },
   "file_extension": ".py",
   "mimetype": "text/x-python",
   "name": "python",
   "nbconvert_exporter": "python",
   "pygments_lexer": "ipython3",
   "version": "3.7.4"
  }
 },
 "nbformat": 4,
 "nbformat_minor": 2
}
