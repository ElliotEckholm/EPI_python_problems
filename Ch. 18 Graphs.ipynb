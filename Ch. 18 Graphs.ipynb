{
 "cells": [
  {
   "cell_type": "markdown",
   "metadata": {},
   "source": [
    "# Graphs Bootcamp"
   ]
  },
  {
   "cell_type": "markdown",
   "metadata": {},
   "source": [
    "## Breadth-First Search\n",
    "\n",
    "- Checks if node has already been visited / uses queue / calls itself\n",
    "- Use if you want to find the shortest path and optimization problems\n",
    "\n"
   ]
  },
  {
   "cell_type": "code",
   "execution_count": 31,
   "metadata": {},
   "outputs": [
    {
     "name": "stdout",
     "output_type": "stream",
     "text": [
      "Following is Breadth First Traversal (starting from vertex 2)\n",
      "2 0 3 1 "
     ]
    }
   ],
   "source": [
    "from collections import defaultdict \n",
    "  \n",
    "# This class represents a directed graph \n",
    "# using adjacency list representation \n",
    "class Graph: \n",
    "  \n",
    "    # Constructor \n",
    "    def __init__(self): \n",
    "  \n",
    "        # default dictionary to store graph \n",
    "        self.graph = defaultdict(list) \n",
    "  \n",
    "    # function to add an edge to graph \n",
    "    def addEdge(self,u,v): \n",
    "        self.graph[u].append(v) \n",
    "  \n",
    "    # Function to print a BFS of graph \n",
    "    def BFS(self, s): \n",
    "        \n",
    "        queue = []\n",
    "        visited = {}\n",
    "        \n",
    "        #add to visited dict\n",
    "        visited[s] = True\n",
    "        #add to queu\n",
    "        queue.append(s)\n",
    "        \n",
    "        while queue:\n",
    "            \n",
    "            s = queue.pop(0)\n",
    "            print(s, end=\" \")\n",
    "            \n",
    "            for neighbor in self.graph[s]:\n",
    "                if neighbor not in visited:\n",
    "                    visited[neighbor] = True\n",
    "                    queue.append(neighbor)\n",
    "                \n",
    "        \n",
    "  \n",
    "        \n",
    "  \n",
    "\n",
    "  \n",
    "# Create a graph given in \n",
    "# the above diagram \n",
    "g = Graph() \n",
    "g.addEdge(0, 1) \n",
    "g.addEdge(0, 2) \n",
    "g.addEdge(1, 2) \n",
    "g.addEdge(2, 0) \n",
    "g.addEdge(2, 3) \n",
    "g.addEdge(3, 3) \n",
    "  \n",
    "print (\"Following is Breadth First Traversal\"\n",
    "                  \" (starting from vertex 2)\") \n",
    "g.BFS(2) "
   ]
  },
  {
   "cell_type": "markdown",
   "metadata": {},
   "source": [
    "## Depth-First Search\n",
    "\n",
    "- Checks if node has already been visited calls itself\n",
    "- Use if looking for a feasible path/ or if something is connected, analyzing structure"
   ]
  },
  {
   "cell_type": "code",
   "execution_count": 46,
   "metadata": {},
   "outputs": [
    {
     "name": "stdout",
     "output_type": "stream",
     "text": [
      "Following is Breadth First Traversal (starting from vertex 2)\n",
      "2\n",
      "0\n",
      "1\n",
      "3\n"
     ]
    }
   ],
   "source": [
    "from collections import defaultdict \n",
    "  \n",
    "# This class represents a directed graph \n",
    "# using adjacency list representation \n",
    "class Graph: \n",
    "  \n",
    "    # Constructor \n",
    "    def __init__(self): \n",
    "  \n",
    "        # default dictionary to store graph \n",
    "        self._graph = defaultdict(list) \n",
    "  \n",
    "    # function to add an edge to graph \n",
    "    def addEdge(self,u,v): \n",
    "        self._graph[u].append(v) \n",
    "  \n",
    "\n",
    "    # Function to print a DFS of graph \n",
    "    def DFS(self,s): \n",
    "        \n",
    "        \n",
    "        \n",
    "        visited = [False] * (max(self._graph)+1)\n",
    "        \n",
    "        \n",
    "        def dfs_helper(s,visited):\n",
    "        \n",
    "            \n",
    "            visited[s] = True\n",
    "            print(s)\n",
    "            \n",
    "            for i in self._graph[s]:\n",
    "                if visited[i] == False:\n",
    "                    dfs_helper(i,visited)\n",
    "                    \n",
    "        dfs_helper(s,visited)\n",
    "        \n",
    "        \n",
    "        \n",
    "  \n",
    "        \n",
    "  \n",
    "\n",
    "  \n",
    "# Create a graph given in \n",
    "# the above diagram \n",
    "g = Graph() \n",
    "g.addEdge(0, 1) \n",
    "g.addEdge(0, 2) \n",
    "g.addEdge(1, 2) \n",
    "g.addEdge(2, 0) \n",
    "g.addEdge(2, 3) \n",
    "g.addEdge(3, 3) \n",
    "  \n",
    "print (\"Following is Breadth First Traversal\"\n",
    "                  \" (starting from vertex 2)\") \n",
    "g.DFS(2) "
   ]
  },
  {
   "cell_type": "markdown",
   "metadata": {},
   "source": [
    "# 18.1"
   ]
  },
  {
   "cell_type": "code",
   "execution_count": 19,
   "metadata": {},
   "outputs": [],
   "source": [
    "import collections\n",
    "from typing import List\n",
    "\n",
    "\n",
    "WHITE, BLACK = range(2)\n",
    "\n",
    "Coordinate = collections.namedtuple('Coordinate',('x','y'))\n",
    "\n",
    "def search_maze(maze: List[List[int]], s: Coordinate, e: Coordinate) -> List[Coordinate]:\n",
    "    \n",
    "    #perform DFS to find a feasible path\n",
    "    def search_maze_helper(current):\n",
    "        \n",
    "        #checks if current is within maze and is a white pixel\n",
    "        if not (0 <= current.x < len(maze) and 0 <= current.y < len(maze) and maze[current.x][current.y] == WHITE):\n",
    "            return False\n",
    "        \n",
    "        path.append(current)\n",
    "        \n",
    "        #make current path a BLACK, i.e. already visited/off limits now\n",
    "        maze[current.x][current.y] = BLACK\n",
    "        \n",
    "        if current == e:\n",
    "            return True\n",
    "        \n",
    "        if any(\n",
    "                map(search_maze_helper,\n",
    "                    map(Coordinate, (current.x - 1, current.x + 1, current.x, current.x),\n",
    "                       (current.y, current.y, current.y - 1, current.y + 1)))):\n",
    "            return True\n",
    "        \n",
    "        \n",
    "        #cannot find a path, remove coordinate added to path\n",
    "        del path[-1]\n",
    "        return False\n",
    "    \n",
    "    path: List[Coordinate] = []\n",
    "    search_maze_helper(s)\n",
    "    return path\n",
    "    "
   ]
  },
  {
   "cell_type": "code",
   "execution_count": 21,
   "metadata": {},
   "outputs": [
    {
     "name": "stdout",
     "output_type": "stream",
     "text": [
      "Coordinate(x=0, y=0)\n"
     ]
    },
    {
     "data": {
      "text/plain": [
       "[Coordinate(x=0, y=0),\n",
       " Coordinate(x=1, y=0),\n",
       " Coordinate(x=2, y=0),\n",
       " Coordinate(x=2, y=1),\n",
       " Coordinate(x=1, y=1),\n",
       " Coordinate(x=0, y=1),\n",
       " Coordinate(x=0, y=2),\n",
       " Coordinate(x=1, y=2),\n",
       " Coordinate(x=2, y=2)]"
      ]
     },
     "execution_count": 21,
     "metadata": {},
     "output_type": "execute_result"
    }
   ],
   "source": [
    "length = 3\n",
    "maze = [[0 for x in range(length)] for y in range(length)] \n",
    "s = Coordinate(0,0)\n",
    "\n",
    "e = Coordinate(length-1,length-1)\n",
    "print(s)\n",
    "\n",
    "search_maze(maze,s,e)"
   ]
  },
  {
   "cell_type": "code",
   "execution_count": 23,
   "metadata": {},
   "outputs": [
    {
     "name": "stdout",
     "output_type": "stream",
     "text": [
      "defaultdict(<class 'list'>, {})\n"
     ]
    }
   ],
   "source": [
    "test_dict = collections.defaultdict(list)\n",
    "\n",
    "print(test_dict)"
   ]
  },
  {
   "cell_type": "code",
   "execution_count": null,
   "metadata": {},
   "outputs": [],
   "source": []
  }
 ],
 "metadata": {
  "kernelspec": {
   "display_name": "Python 3",
   "language": "python",
   "name": "python3"
  },
  "language_info": {
   "codemirror_mode": {
    "name": "ipython",
    "version": 3
   },
   "file_extension": ".py",
   "mimetype": "text/x-python",
   "name": "python",
   "nbconvert_exporter": "python",
   "pygments_lexer": "ipython3",
   "version": "3.7.4"
  }
 },
 "nbformat": 4,
 "nbformat_minor": 2
}
